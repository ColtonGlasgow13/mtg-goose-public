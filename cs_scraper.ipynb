{
 "cells": [
  {
   "cell_type": "code",
   "execution_count": 1,
   "metadata": {},
   "outputs": [],
   "source": [
    "from requests_html import AsyncHTMLSession\n",
    "from bs4 import BeautifulSoup\n",
    "import psycopg2\n",
    "import pandas as pd\n",
    "# import import_ipynb\n",
    "# import data_structures as ds\n",
    "import numpy as np\n",
    "from datetime import datetime"
   ]
  },
  {
   "cell_type": "code",
   "execution_count": 6,
   "metadata": {},
   "outputs": [
    {
     "ename": "SyntaxError",
     "evalue": "'await' outside async function (<ipython-input-6-e1fc0d30ecf8>, line 20)",
     "output_type": "error",
     "traceback": [
      "\u001B[0;36m  File \u001B[0;32m\"<ipython-input-6-e1fc0d30ecf8>\"\u001B[0;36m, line \u001B[0;32m20\u001B[0m\n\u001B[0;31m    \u001B[0m\n\u001B[0m    ^\u001B[0m\n\u001B[0;31mSyntaxError\u001B[0m\u001B[0;31m:\u001B[0m 'await' outside async function\n"
     ]
    }
   ],
   "source": [
    "def pull_receiving():\n",
    "\n",
    "    # Create the payload\n",
    "    payload = {'email': 'householdgamingmtg@gmail.com',\n",
    "               'password': ''\n",
    "               }\n",
    "\n",
    "    # Post the payload to the site to log in\n",
    "\n",
    "\n",
    "    # Navigate to the next page and scrape the data\n",
    "\n",
    "    \n",
    "    asession = AsyncHTMLSession()\n",
    "    r = asession.post(\"https://www.cardsphere.com/login\", data=payload)\n",
    "    r = asession.get('https://www.cardsphere.com/receiving')\n",
    "    await r.html.arender(send_cookies_session=True, wait=5, sleep=5, timeout=30)\n",
    "\n",
    "    soup = BeautifulSoup(r.html.raw_html, \"lxml\")\n",
    "\n",
    "    html = list(soup.children)[1]\n",
    "\n",
    "    body = list(html.children)[2]\n",
    "\n",
    "    rec = list(body.children)[5]\n",
    "\n",
    "    chunk = list(rec.children)[33]\n",
    "\n",
    "    packages = list(chunk.children)[2:-20]\n",
    "\n",
    "    orders = []\n",
    "    for package in packages:\n",
    "        header_raw = list(package.children)[0]\n",
    "        cards = list(package.children)[1:]\n",
    "\n",
    "        header_1 = list(header_raw.children)[0]\n",
    "        header = list(header_1.children)[0]\n",
    "        header_txt = header.get_text()\n",
    "\n",
    "        order_num = int(header_txt[18:24])\n",
    "\n",
    "        cards_1 = list(cards[1].children)[0]\n",
    "\n",
    "        cards_2 = list(cards_1.children)[2:]\n",
    "        cards_lst = []\n",
    "        for card in cards_2:\n",
    "            card_1 = list(card.children)[0]\n",
    "\n",
    "            name_raw = list(card_1.children)[0]\n",
    "            name_1 = list(name_raw.children)[0]\n",
    "            name = name_1.get_text()\n",
    "\n",
    "            set_raw = list(card_1.children)[2]\n",
    "            card_set = list(set_raw.children)[1].strip()\n",
    "\n",
    "            foil_raw = list(card_1.children)[6]\n",
    "            foil = list(foil_raw.children)[0].strip()\n",
    "\n",
    "            price_raw = list(card_1.children)[10]\n",
    "            price = float(list(price_raw.children)[0].strip()[1:])\n",
    "\n",
    "            status_raw = list(card_1.children)[12]\n",
    "            status_1 = list(status_raw.children)[0]\n",
    "            status = list(status_1.children)[1].strip()\n",
    "\n",
    "            cards_lst.append([name, card_set, foil, price, status])\n",
    "\n",
    "        orders.append((order_num, cards_lst))\n",
    "\n",
    "    return orders"
   ]
  },
  {
   "cell_type": "code",
   "execution_count": 4,
   "metadata": {},
   "outputs": [],
   "source": [
    "def main():\n",
    "    orders = pull_receiving()\n",
    "    print(orders)"
   ]
  },
  {
   "cell_type": "code",
   "execution_count": 7,
   "metadata": {},
   "outputs": [
    {
     "ename": "NameError",
     "evalue": "name 'pull_receiving' is not defined",
     "output_type": "error",
     "traceback": [
      "\u001B[0;31m---------------------------------------------------------------------------\u001B[0m",
      "\u001B[0;31mNameError\u001B[0m                                 Traceback (most recent call last)",
      "\u001B[0;32m<ipython-input-7-c7bc734e5e35>\u001B[0m in \u001B[0;36m<module>\u001B[0;34m\u001B[0m\n\u001B[1;32m      1\u001B[0m \u001B[0;32mif\u001B[0m \u001B[0m__name__\u001B[0m \u001B[0;34m==\u001B[0m \u001B[0;34m'__main__'\u001B[0m\u001B[0;34m:\u001B[0m\u001B[0;34m\u001B[0m\u001B[0;34m\u001B[0m\u001B[0m\n\u001B[0;32m----> 2\u001B[0;31m     \u001B[0mmain\u001B[0m\u001B[0;34m(\u001B[0m\u001B[0;34m)\u001B[0m\u001B[0;34m\u001B[0m\u001B[0;34m\u001B[0m\u001B[0m\n\u001B[0m",
      "\u001B[0;32m<ipython-input-4-f320e64046e5>\u001B[0m in \u001B[0;36mmain\u001B[0;34m()\u001B[0m\n\u001B[1;32m      1\u001B[0m \u001B[0;32mdef\u001B[0m \u001B[0mmain\u001B[0m\u001B[0;34m(\u001B[0m\u001B[0;34m)\u001B[0m\u001B[0;34m:\u001B[0m\u001B[0;34m\u001B[0m\u001B[0;34m\u001B[0m\u001B[0m\n\u001B[0;32m----> 2\u001B[0;31m     \u001B[0morders\u001B[0m \u001B[0;34m=\u001B[0m \u001B[0mpull_receiving\u001B[0m\u001B[0;34m(\u001B[0m\u001B[0;34m)\u001B[0m\u001B[0;34m\u001B[0m\u001B[0;34m\u001B[0m\u001B[0m\n\u001B[0m\u001B[1;32m      3\u001B[0m     \u001B[0mprint\u001B[0m\u001B[0;34m(\u001B[0m\u001B[0morders\u001B[0m\u001B[0;34m)\u001B[0m\u001B[0;34m\u001B[0m\u001B[0;34m\u001B[0m\u001B[0m\n",
      "\u001B[0;31mNameError\u001B[0m: name 'pull_receiving' is not defined"
     ]
    }
   ],
   "source": [
    "if __name__ == '__main__':\n",
    "    main()"
   ]
  }
 ],
 "metadata": {
  "kernelspec": {
   "display_name": "Python 3",
   "language": "python",
   "name": "python3"
  },
  "language_info": {
   "codemirror_mode": {
    "name": "ipython",
    "version": 3
   },
   "file_extension": ".py",
   "mimetype": "text/x-python",
   "name": "python",
   "nbconvert_exporter": "python",
   "pygments_lexer": "ipython3",
   "version": "3.6.9"
  }
 },
 "nbformat": 4,
 "nbformat_minor": 4
}