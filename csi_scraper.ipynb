{
 "cells": [
  {
   "cell_type": "code",
   "execution_count": 1,
   "metadata": {},
   "outputs": [
    {
     "name": "stdout",
     "output_type": "stream",
     "text": [
      "importing Jupyter notebook from data_structures.ipynb\n"
     ]
    }
   ],
   "source": [
    "import requests\n",
    "from bs4 import BeautifulSoup\n",
    "import pandas as pd\n",
    "import psycopg2\n",
    "from datetime import datetime\n",
    "from psycopg2.extras import execute_values\n",
    "import time\n",
    "\n",
    "import import_ipynb\n",
    "import data_structures as ds"
   ]
  },
  {
   "cell_type": "code",
   "execution_count": 2,
   "metadata": {},
   "outputs": [],
   "source": [
    "headers = {\n",
    "    \"User-Agent\": 'Mozilla/5.0 (Windows NT 10.0; Win64; x64) AppleWebKit/537.36 (KHTML, like Gecko) '\n",
    "                  'Chrome/79.0.3945.88 Safari/537.36'}"
   ]
  },
  {
   "cell_type": "code",
   "execution_count": 3,
   "metadata": {},
   "outputs": [],
   "source": [
    "def get_csi_df():\n",
    "    df = pd.DataFrame()\n",
    "    cardnames = []\n",
    "    sets = []\n",
    "    prices = []\n",
    "    for p in ['1', '2', '4', '5', '6']:\n",
    "        page = requests.get('https://www.coolstuffinc.com/buylist_text.php?pa=vbl&gn=mtg&dp=' + p, headers=headers)\n",
    "\n",
    "        soup = BeautifulSoup(page.content, 'html.parser')\n",
    "\n",
    "        html = list(soup.children)[0]\n",
    "\n",
    "        body = list(html.children)[3]\n",
    "\n",
    "        t = list(body.children)[5]\n",
    "\n",
    "        segmented = t.get_text().split('\\n\\n\\n\\n\\n\\n')\n",
    "        for segment in segmented:\n",
    "            words = segment.split('\\n\\xa0\\n')\n",
    "            if len(words) == 14:\n",
    "                words = words[:7]\n",
    "            if len(words) == 7 and 'Foil' not in words[1] and 'New' not in words[1] and 'Variants' not in words[2]:\n",
    "                cardname = words[0].replace('\\n', '')\n",
    "                set = words[2]\n",
    "                price = float(words[5].replace('$', ''))\n",
    "                cardnames.append(cardname)\n",
    "                sets.append(set)\n",
    "                prices.append(price)\n",
    "\n",
    "        print('CSI page ' + str(p) + ' processed')\n",
    "\n",
    "    df['CSI_Name'] = pd.Series(cardnames)\n",
    "    df['CSI_Set'] = pd.Series(sets)\n",
    "    df['CSI_Price'] = pd.Series(prices)\n",
    "    df.drop_duplicates(inplace=True)\n",
    "\n",
    "    return df"
   ]
  },
  {
   "cell_type": "code",
   "execution_count": 4,
   "metadata": {},
   "outputs": [],
   "source": [
    "def store_csi(df):\n",
    "    pd.set_option('display.max_columns', None)\n",
    "    pd.set_option('display.max_rows', None)\n",
    "\n",
    "    conn = psycopg2.connect(host=\"localhost\", port=5432, database=\"\", user=\"\", password=\"\")\n",
    "    cur = conn.cursor()\n",
    "\n",
    "    to_store = pd.DataFrame(columns=['uuid', 'csiDate', 'csiBuyPrice'])\n",
    "    uuid = []\n",
    "    prices = []\n",
    "    for index, row in df.iterrows():\n",
    "        try:\n",
    "            uuid.append(ds.get_uuid(cur, row.CSI_Name, row.CSI_Set, 'csi'))\n",
    "            prices.append(row.CSI_Price)\n",
    "        except Exception as e:\n",
    "            pass\n",
    "\n",
    "    to_store['uuid'] = pd.Series(uuid)\n",
    "    to_store['csibuyprice'] = pd.Series(prices)\n",
    "    to_store['csidate'] = datetime.now()\n",
    "    \n",
    "    to_store.drop_duplicates(subset=['uuid', 'csidate'], inplace=True)\n",
    "    \n",
    "    t_df = tuple(to_store[['uuid', 'csidate', 'csibuyprice']].itertuples(index=False, name=None))\n",
    "    execute_values(cur, \"INSERT INTO csibuydata (uuid, csidate, csibuyprice) VALUES %s\", t_df)\n",
    "    conn.commit()\n",
    "\n",
    "    print('CSI Stored')\n",
    "    cur.close()\n",
    "    conn.close()"
   ]
  },
  {
   "cell_type": "code",
   "execution_count": 5,
   "metadata": {},
   "outputs": [],
   "source": [
    "def main():\n",
    "    df = get_csi_df()\n",
    "    store_csi(df)"
   ]
  },
  {
   "cell_type": "code",
   "execution_count": 6,
   "metadata": {},
   "outputs": [
    {
     "name": "stdout",
     "output_type": "stream",
     "text": [
      "CSI page 1 processed\n",
      "CSI page 2 processed\n",
      "CSI page 4 processed\n",
      "CSI page 5 processed\n",
      "CSI page 6 processed\n",
      "CSI Stored\n"
     ]
    }
   ],
   "source": [
    "if __name__ == '__main__':\n",
    "    main()"
   ]
  }
 ],
 "metadata": {
  "kernelspec": {
   "display_name": "Python 3",
   "language": "python",
   "name": "python3"
  },
  "language_info": {
   "codemirror_mode": {
    "name": "ipython",
    "version": 3
   },
   "file_extension": ".py",
   "mimetype": "text/x-python",
   "name": "python",
   "nbconvert_exporter": "python",
   "pygments_lexer": "ipython3",
   "version": "3.6.9"
  }
 },
 "nbformat": 4,
 "nbformat_minor": 4
}