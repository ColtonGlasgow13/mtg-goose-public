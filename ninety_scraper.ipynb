{
 "cells": [
  {
   "cell_type": "code",
   "execution_count": 1,
   "metadata": {},
   "outputs": [],
   "source": [
    "import requests\n",
    "from bs4 import BeautifulSoup\n",
    "import pandas as pd\n",
    "import numpy as np\n",
    "import psycopg2\n",
    "from psycopg2.extras import execute_values\n",
    "from datetime import datetime\n",
    "import time"
   ]
  },
  {
   "cell_type": "code",
   "execution_count": 2,
   "metadata": {},
   "outputs": [],
   "source": [
    "headers = {\n",
    "    \"User-Agent\": 'Mozilla/5.0 (Windows NT 10.0; Win64; x64) AppleWebKit/537.36 (KHTML, like Gecko) '\n",
    "                  'Chrome/79.0.3945.88 Safari/537.36'}"
   ]
  },
  {
   "cell_type": "code",
   "execution_count": 3,
   "metadata": {},
   "outputs": [],
   "source": [
    "def pull_store_95():\n",
    "    page = requests.get(r'http://www.95mtg.com/buylist/', headers=headers)\n",
    "\n",
    "    soup = BeautifulSoup(page.content, 'html.parser')\n",
    "\n",
    "    page_1 = list(soup.children)[2]\n",
    "\n",
    "    page_2 = list(page_1.children)[1]\n",
    "\n",
    "    body = list(page_2.children)[7]\n",
    "\n",
    "    body_1 = list(body.children)[0]\n",
    "\n",
    "    string = str(body_1)\n",
    "\n",
    "    cut_before = string.split('var card_master = {\"')[1]\n",
    "\n",
    "    cut_after = cut_before.split('};\\n\tvar half_it = width_master/3;')[0]\n",
    "\n",
    "    cards = cut_after.split('},\"')\n",
    "\n",
    "    lists = []\n",
    "    for card in cards:\n",
    "        name = card.split('card_name\":\"')[1].split('\",\"price')[0]\n",
    "        price = float(card.split('price\":\"$')[1].split('\",\"quan')[0])\n",
    "        lists.append([name, price])\n",
    "\n",
    "    data = pd.DataFrame(lists, columns=['name', 'price'])\n",
    "\n",
    "    data['uuid'] = np.nan\n",
    "\n",
    "    conn = psycopg2.connect(host=\"localhost\", port=5432, database=\"\", user=\"\", password=\"\")\n",
    "    cur = conn.cursor()\n",
    "\n",
    "    new_data = pd.DataFrame(columns=['uuid', 'price'])\n",
    "\n",
    "    for index, row in data.iterrows():\n",
    "        # To prevent a bug where single quotes in the name don't work\n",
    "        if \"'\" in row['name']:\n",
    "            cardName = row['name'].replace(\"'\", \"''\")\n",
    "        else:\n",
    "            cardName = row['name']\n",
    "        SQL = 'SELECT uuid FROM CardInfo WHERE cardName=\\'' + cardName + '\\';'\n",
    "\n",
    "        uuids = pd.read_sql_query(SQL, conn)\n",
    "        uuids['price'] = row.price\n",
    "\n",
    "        new_data = new_data.append(uuids)\n",
    "        new_data['date'] = datetime.now()\n",
    "    \n",
    "    t_df = tuple(new_data[['uuid', 'date', 'price']].itertuples(index=False, name=None))\n",
    "    execute_values(cur, \"INSERT INTO ninetybuydata (uuid, ninetydate, ninetybuyprice) VALUES %s\", t_df)\n",
    "    conn.commit()\n",
    "\n",
    "    cur.close()\n",
    "    conn.close()"
   ]
  },
  {
   "cell_type": "code",
   "execution_count": 4,
   "metadata": {},
   "outputs": [],
   "source": [
    "def main():\n",
    "    pull_store_95()"
   ]
  },
  {
   "cell_type": "code",
   "execution_count": 5,
   "metadata": {},
   "outputs": [],
   "source": [
    "if __name__ == '__main__':\n",
    "    main()"
   ]
  }
 ],
 "metadata": {
  "kernelspec": {
   "display_name": "Python 3",
   "language": "python",
   "name": "python3"
  },
  "language_info": {
   "codemirror_mode": {
    "name": "ipython",
    "version": 3
   },
   "file_extension": ".py",
   "mimetype": "text/x-python",
   "name": "python",
   "nbconvert_exporter": "python",
   "pygments_lexer": "ipython3",
   "version": "3.6.9"
  }
 },
 "nbformat": 4,
 "nbformat_minor": 4
}